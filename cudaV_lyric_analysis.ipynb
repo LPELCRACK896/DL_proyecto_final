{
 "cells": [
  {
   "cell_type": "code",
   "execution_count": 1,
   "metadata": {
    "collapsed": true
   },
   "outputs": [],
   "source": [
    "import pandas as pd\n",
    "import re"
   ]
  },
  {
   "cell_type": "code",
   "execution_count": 2,
   "metadata": {
    "collapsed": false
   },
   "outputs": [],
   "source": [
    "data = pd.read_csv(\"./data/spotify_songs.csv\")"
   ]
  },
  {
   "cell_type": "code",
   "execution_count": 3,
   "metadata": {},
   "outputs": [
    {
     "name": "stdout",
     "output_type": "stream",
     "text": [
      "<class 'pandas.core.frame.DataFrame'>\n",
      "RangeIndex: 18454 entries, 0 to 18453\n",
      "Data columns (total 25 columns):\n",
      " #   Column                    Non-Null Count  Dtype  \n",
      "---  ------                    --------------  -----  \n",
      " 0   track_id                  18454 non-null  object \n",
      " 1   track_name                18454 non-null  object \n",
      " 2   track_artist              18454 non-null  object \n",
      " 3   lyrics                    18194 non-null  object \n",
      " 4   track_popularity          18454 non-null  int64  \n",
      " 5   track_album_id            18454 non-null  object \n",
      " 6   track_album_name          18454 non-null  object \n",
      " 7   track_album_release_date  18454 non-null  object \n",
      " 8   playlist_name             18454 non-null  object \n",
      " 9   playlist_id               18454 non-null  object \n",
      " 10  playlist_genre            18454 non-null  object \n",
      " 11  playlist_subgenre         18454 non-null  object \n",
      " 12  danceability              18454 non-null  float64\n",
      " 13  energy                    18454 non-null  float64\n",
      " 14  key                       18454 non-null  int64  \n",
      " 15  loudness                  18454 non-null  float64\n",
      " 16  mode                      18454 non-null  int64  \n",
      " 17  speechiness               18454 non-null  float64\n",
      " 18  acousticness              18454 non-null  float64\n",
      " 19  instrumentalness          18454 non-null  float64\n",
      " 20  liveness                  18454 non-null  float64\n",
      " 21  valence                   18454 non-null  float64\n",
      " 22  tempo                     18454 non-null  float64\n",
      " 23  duration_ms               18454 non-null  int64  \n",
      " 24  language                  18194 non-null  object \n",
      "dtypes: float64(9), int64(4), object(12)\n",
      "memory usage: 3.5+ MB\n",
      "None\n"
     ]
    }
   ],
   "source": [
    "print(data.info())"
   ]
  },
  {
   "cell_type": "code",
   "execution_count": 4,
   "metadata": {},
   "outputs": [],
   "source": [
    "def clean_text(lyric):\n",
    "     return  re.sub(r'[^a-zA-Z\\s]', '', lyric)"
   ]
  },
  {
   "cell_type": "code",
   "execution_count": 5,
   "metadata": {
    "collapsed": false
   },
   "outputs": [],
   "source": [
    "data = data[data['language'] == 'en']\n",
    "data['lyrics'] = data['lyrics'].apply(clean_text)\n",
    "data['track_name'] = data['track_name'].apply(clean_text)\n",
    "data['track_album_name'] = data['track_album_name'].apply(clean_text)"
   ]
  },
  {
   "cell_type": "code",
   "execution_count": 6,
   "metadata": {},
   "outputs": [],
   "source": [
    "from transformers import AutoTokenizer, AutoModelForSequenceClassification\n",
    "import torch\n",
    "import re"
   ]
  },
  {
   "cell_type": "code",
   "execution_count": 7,
   "metadata": {},
   "outputs": [],
   "source": [
    "tokenizer = AutoTokenizer.from_pretrained(\"nlptown/bert-base-multilingual-uncased-sentiment\")\n",
    "model = AutoModelForSequenceClassification.from_pretrained(\"nlptown/bert-base-multilingual-uncased-sentiment\")"
   ]
  },
  {
   "cell_type": "code",
   "execution_count": 8,
   "metadata": {},
   "outputs": [
    {
     "ename": "Exception",
     "evalue": "Must have CUDA available",
     "output_type": "error",
     "traceback": [
      "\u001b[1;31m---------------------------------------------------------------------------\u001b[0m",
      "\u001b[1;31mException\u001b[0m                                 Traceback (most recent call last)",
      "\u001b[1;32mc:\\Users\\lp109\\OneDrive\\Documentos\\0lps\\01 U\\0LaU\\000Octavo semestre\\Deep Learning\\Proyecto final\\cudaV_lyric_analysis.ipynb Cell 8\u001b[0m line \u001b[0;36m5\n\u001b[0;32m      <a href='vscode-notebook-cell:/c%3A/Users/lp109/OneDrive/Documentos/0lps/01%20U/0LaU/000Octavo%20semestre/Deep%20Learning/Proyecto%20final/cudaV_lyric_analysis.ipynb#X21sZmlsZQ%3D%3D?line=2'>3</a>\u001b[0m     model \u001b[39m=\u001b[39m model\u001b[39m.\u001b[39mto(\u001b[39m'\u001b[39m\u001b[39mcuda\u001b[39m\u001b[39m'\u001b[39m)\n\u001b[0;32m      <a href='vscode-notebook-cell:/c%3A/Users/lp109/OneDrive/Documentos/0lps/01%20U/0LaU/000Octavo%20semestre/Deep%20Learning/Proyecto%20final/cudaV_lyric_analysis.ipynb#X21sZmlsZQ%3D%3D?line=3'>4</a>\u001b[0m \u001b[39melse\u001b[39;00m: \n\u001b[1;32m----> <a href='vscode-notebook-cell:/c%3A/Users/lp109/OneDrive/Documentos/0lps/01%20U/0LaU/000Octavo%20semestre/Deep%20Learning/Proyecto%20final/cudaV_lyric_analysis.ipynb#X21sZmlsZQ%3D%3D?line=4'>5</a>\u001b[0m     \u001b[39mraise\u001b[39;00m \u001b[39mException\u001b[39;00m (\u001b[39m\"\u001b[39m\u001b[39mMust have CUDA available\u001b[39m\u001b[39m\"\u001b[39m)\n",
      "\u001b[1;31mException\u001b[0m: Must have CUDA available"
     ]
    }
   ],
   "source": [
    "# Verifica si CUDA está disponible\n",
    "if torch.cuda.is_available():\n",
    "    model = model.to('cuda')\n",
    "else: \n",
    "    raise Exception (\"Must have CUDA available\")"
   ]
  },
  {
   "cell_type": "code",
   "execution_count": null,
   "metadata": {},
   "outputs": [],
   "source": [
    "def sentiment_score(text):\n",
    "    inputs = tokenizer(text, return_tensors=\"pt\", truncation=True, max_length=512)\n",
    "    \n",
    "    # Mueve los tensores de entrada al dispositivo correcto\n",
    "    inputs = {k: v.to('cuda') for k, v in inputs.items()} if torch.cuda.is_available() else inputs\n",
    "\n",
    "    with torch.no_grad():\n",
    "        outputs = model(**inputs)\n",
    "\n",
    "    scores = outputs[0][0].softmax(0)\n",
    "    scores = scores.detach().cpu().numpy()  # Mueve el resultado a la CPU para convertirlo a numpy\n",
    "    max_score = scores.argmax()\n",
    "    return max_score\n"
   ]
  },
  {
   "cell_type": "code",
   "execution_count": null,
   "metadata": {},
   "outputs": [],
   "source": [
    "def process_in_batches(data, column, batch_size=32):\n",
    "    num_batches = len(data) // batch_size + (0 if len(data) % batch_size == 0 else 1)\n",
    "    results = []\n",
    "\n",
    "    for i in range(num_batches):\n",
    "        batch = data[column][i * batch_size:(i + 1) * batch_size]\n",
    "        batch_result = batch.apply(sentiment_score)\n",
    "        results.extend(batch_result)\n",
    "    \n",
    "    return results"
   ]
  },
  {
   "cell_type": "code",
   "execution_count": null,
   "metadata": {},
   "outputs": [],
   "source": [
    "data['lyrics_sentiment'] = process_in_batches(data, 'lyrics', batch_size=32)"
   ]
  },
  {
   "cell_type": "code",
   "execution_count": null,
   "metadata": {},
   "outputs": [],
   "source": [
    "data['album_name_sentiment'] = process_in_batches(data, 'track_album_name', batch_size=32)"
   ]
  },
  {
   "cell_type": "code",
   "execution_count": null,
   "metadata": {},
   "outputs": [],
   "source": [
    "data['track_name_sentiment'] = process_in_batches(data, 'track_name', batch_size=32)"
   ]
  },
  {
   "cell_type": "code",
   "execution_count": null,
   "metadata": {},
   "outputs": [],
   "source": [
    "data.to_csv(\"spotify_songs_processed.csv\", index=False)"
   ]
  }
 ],
 "metadata": {
  "kernelspec": {
   "display_name": "Python 3",
   "language": "python",
   "name": "python3"
  },
  "language_info": {
   "codemirror_mode": {
    "name": "ipython",
    "version": 3
   },
   "file_extension": ".py",
   "mimetype": "text/x-python",
   "name": "python",
   "nbconvert_exporter": "python",
   "pygments_lexer": "ipython3",
   "version": "3.11.3"
  }
 },
 "nbformat": 4,
 "nbformat_minor": 0
}

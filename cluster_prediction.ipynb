{
 "cells": [
  {
   "cell_type": "code",
   "execution_count": 1,
   "metadata": {},
   "outputs": [],
   "source": [
    "import pandas as pd\n",
    "import matplotlib.pyplot as plt\n"
   ]
  },
  {
   "cell_type": "code",
   "execution_count": 3,
   "metadata": {},
   "outputs": [],
   "source": [
    "cluster_center = pd.read_csv(\"./data/cluster_center.csv\")\n",
    "clustered_data = pd.read_csv(\"./data/spotify_songs_clustered.csv\")"
   ]
  },
  {
   "cell_type": "code",
   "execution_count": 4,
   "metadata": {},
   "outputs": [
    {
     "name": "stdout",
     "output_type": "stream",
     "text": [
      "<class 'pandas.core.frame.DataFrame'>\n",
      "RangeIndex: 15405 entries, 0 to 15404\n",
      "Data columns (total 20 columns):\n",
      " #   Column                   Non-Null Count  Dtype  \n",
      "---  ------                   --------------  -----  \n",
      " 0   danceability             15405 non-null  float64\n",
      " 1   energy                   15405 non-null  float64\n",
      " 2   key                      15405 non-null  float64\n",
      " 3   loudness                 15405 non-null  float64\n",
      " 4   speechiness              15405 non-null  float64\n",
      " 5   acousticness             15405 non-null  float64\n",
      " 6   instrumentalness         15405 non-null  float64\n",
      " 7   valence                  15405 non-null  float64\n",
      " 8   tempo                    15405 non-null  float64\n",
      " 9   lyrics_sentiment         15405 non-null  float64\n",
      " 10  album_name_sentiment     15405 non-null  float64\n",
      " 11  track_name_sentiment     15405 non-null  float64\n",
      " 12  playlist_name_sentiment  15405 non-null  float64\n",
      " 13  genre_edm                15405 non-null  bool   \n",
      " 14  genre_latin              15405 non-null  bool   \n",
      " 15  genre_pop                15405 non-null  bool   \n",
      " 16  genre_r&b                15405 non-null  bool   \n",
      " 17  genre_rap                15405 non-null  bool   \n",
      " 18  genre_rock               15405 non-null  bool   \n",
      " 19  cluster                  15405 non-null  int64  \n",
      "dtypes: bool(6), float64(13), int64(1)\n",
      "memory usage: 1.7 MB\n"
     ]
    }
   ],
   "source": [
    "clustered_data.info()"
   ]
  },
  {
   "cell_type": "code",
   "execution_count": 5,
   "metadata": {},
   "outputs": [],
   "source": [
    "for col in ['genre_edm', 'genre_latin', 'genre_pop', 'genre_r&b', 'genre_rap', 'genre_rock']:\n",
    "    clustered_data[col] = clustered_data[col].astype('float32')"
   ]
  },
  {
   "cell_type": "code",
   "execution_count": 6,
   "metadata": {},
   "outputs": [],
   "source": [
    "from sklearn.model_selection import train_test_split\n",
    "\n",
    "X = clustered_data.drop('cluster', axis=1)\n",
    "y = clustered_data['cluster']\n",
    "\n",
    "X_train, X_temp, y_train, y_temp = train_test_split(X, y, test_size=0.3, random_state=42)\n",
    "X_val, X_test, y_val, y_test = train_test_split(X_temp, y_temp, test_size=0.5, random_state=42)"
   ]
  },
  {
   "cell_type": "code",
   "execution_count": 7,
   "metadata": {},
   "outputs": [],
   "source": [
    "\"\"\"\n",
    "Preparing dataset to keras\n",
    "\"\"\"\n",
    "\n",
    "X_train = X_train.fillna(0)\n",
    "X_val = X_val.fillna(0)\n",
    "X_test = X_test.fillna(0)\n",
    "\n",
    "X_train = X_train.apply(pd.to_numeric)\n",
    "X_val = X_val.apply(pd.to_numeric)\n",
    "X_test = X_test.apply(pd.to_numeric)\n",
    "\n",
    "X_train = X_train[y_train != -1]\n",
    "y_train = y_train[y_train != -1]\n",
    "\n",
    "X_val = X_val[y_val != -1]\n",
    "y_val = y_val[y_val != -1]\n",
    "\n",
    "X_test = X_test[y_test != -1]\n",
    "y_test = y_test[y_test != -1]\n"
   ]
  },
  {
   "cell_type": "code",
   "execution_count": 8,
   "metadata": {},
   "outputs": [],
   "source": [
    "from keras.models import Sequential\n",
    "from keras.layers import Dense, Dropout\n",
    "\n",
    "num_clusters = len(y.unique())\n",
    "\n",
    "model = Sequential()\n",
    "model.add(Dense(64, input_dim=X_train.shape[1], activation='relu'))\n",
    "model.add(Dropout(0.5))\n",
    "model.add(Dense(32, activation='relu'))\n",
    "model.add(Dense(num_clusters, activation='softmax'))\n",
    "\n",
    "model.compile(loss='sparse_categorical_crossentropy', optimizer='adam', metrics=['accuracy'])"
   ]
  },
  {
   "cell_type": "code",
   "execution_count": 13,
   "metadata": {},
   "outputs": [
    {
     "name": "stdout",
     "output_type": "stream",
     "text": [
      "Model: \"sequential\"\n",
      "_________________________________________________________________\n",
      " Layer (type)                Output Shape              Param #   \n",
      "=================================================================\n",
      " dense (Dense)               (None, 64)                1280      \n",
      "                                                                 \n",
      " dropout (Dropout)           (None, 64)                0         \n",
      "                                                                 \n",
      " dense_1 (Dense)             (None, 32)                2080      \n",
      "                                                                 \n",
      " dense_2 (Dense)             (None, 29)                957       \n",
      "                                                                 \n",
      "=================================================================\n",
      "Total params: 4,317\n",
      "Trainable params: 4,317\n",
      "Non-trainable params: 0\n",
      "_________________________________________________________________\n"
     ]
    }
   ],
   "source": [
    "model.summary()\n"
   ]
  },
  {
   "cell_type": "code",
   "execution_count": 9,
   "metadata": {},
   "outputs": [
    {
     "name": "stdout",
     "output_type": "stream",
     "text": [
      "Epoch 1/100\n",
      "641/641 [==============================] - 2s 2ms/step - loss: 1.2769 - accuracy: 0.6841 - val_loss: 0.4374 - val_accuracy: 0.9020\n",
      "Epoch 2/100\n",
      "641/641 [==============================] - 1s 2ms/step - loss: 0.4613 - accuracy: 0.8855 - val_loss: 0.2353 - val_accuracy: 0.9300\n",
      "Epoch 3/100\n",
      "641/641 [==============================] - 1s 2ms/step - loss: 0.2944 - accuracy: 0.9168 - val_loss: 0.1484 - val_accuracy: 0.9587\n",
      "Epoch 4/100\n",
      "641/641 [==============================] - 1s 2ms/step - loss: 0.2045 - accuracy: 0.9378 - val_loss: 0.1025 - val_accuracy: 0.9580\n",
      "Epoch 5/100\n",
      "641/641 [==============================] - 1s 2ms/step - loss: 0.1581 - accuracy: 0.9508 - val_loss: 0.0739 - val_accuracy: 0.9683\n",
      "Epoch 6/100\n",
      "641/641 [==============================] - 1s 2ms/step - loss: 0.1248 - accuracy: 0.9600 - val_loss: 0.0496 - val_accuracy: 0.9875\n",
      "Epoch 7/100\n",
      "641/641 [==============================] - 1s 2ms/step - loss: 0.1044 - accuracy: 0.9639 - val_loss: 0.0403 - val_accuracy: 0.9838\n",
      "Epoch 8/100\n",
      "641/641 [==============================] - 1s 2ms/step - loss: 0.0900 - accuracy: 0.9713 - val_loss: 0.0353 - val_accuracy: 0.9919\n",
      "Epoch 9/100\n",
      "641/641 [==============================] - 1s 2ms/step - loss: 0.0765 - accuracy: 0.9749 - val_loss: 0.0298 - val_accuracy: 0.9912\n",
      "Epoch 10/100\n",
      "641/641 [==============================] - 1s 2ms/step - loss: 0.0687 - accuracy: 0.9778 - val_loss: 0.0238 - val_accuracy: 0.9912\n",
      "Epoch 11/100\n",
      "641/641 [==============================] - 1s 2ms/step - loss: 0.0642 - accuracy: 0.9781 - val_loss: 0.0301 - val_accuracy: 0.9853\n",
      "Epoch 12/100\n",
      "641/641 [==============================] - 1s 2ms/step - loss: 0.0595 - accuracy: 0.9813 - val_loss: 0.0280 - val_accuracy: 0.9882\n",
      "Epoch 13/100\n",
      "641/641 [==============================] - 1s 2ms/step - loss: 0.0573 - accuracy: 0.9814 - val_loss: 0.0184 - val_accuracy: 0.9919\n",
      "Epoch 14/100\n",
      "641/641 [==============================] - 1s 2ms/step - loss: 0.0531 - accuracy: 0.9825 - val_loss: 0.0197 - val_accuracy: 0.9926\n",
      "Epoch 15/100\n",
      "641/641 [==============================] - 1s 2ms/step - loss: 0.0489 - accuracy: 0.9827 - val_loss: 0.0190 - val_accuracy: 0.9904\n",
      "Epoch 16/100\n",
      "641/641 [==============================] - 1s 2ms/step - loss: 0.0439 - accuracy: 0.9867 - val_loss: 0.0191 - val_accuracy: 0.9904\n",
      "Epoch 17/100\n",
      "641/641 [==============================] - 1s 2ms/step - loss: 0.0502 - accuracy: 0.9822 - val_loss: 0.0135 - val_accuracy: 0.9956\n",
      "Epoch 18/100\n",
      "641/641 [==============================] - 1s 2ms/step - loss: 0.0465 - accuracy: 0.9841 - val_loss: 0.0168 - val_accuracy: 0.9941\n",
      "Epoch 19/100\n",
      "641/641 [==============================] - 1s 2ms/step - loss: 0.0432 - accuracy: 0.9844 - val_loss: 0.0175 - val_accuracy: 0.9941\n",
      "Epoch 20/100\n",
      "641/641 [==============================] - 1s 2ms/step - loss: 0.0460 - accuracy: 0.9831 - val_loss: 0.0142 - val_accuracy: 0.9963\n",
      "Epoch 21/100\n",
      "641/641 [==============================] - 1s 2ms/step - loss: 0.0393 - accuracy: 0.9880 - val_loss: 0.0122 - val_accuracy: 0.9941\n",
      "Epoch 22/100\n",
      "641/641 [==============================] - 1s 2ms/step - loss: 0.0373 - accuracy: 0.9873 - val_loss: 0.0102 - val_accuracy: 0.9978\n",
      "Epoch 23/100\n",
      "641/641 [==============================] - 1s 2ms/step - loss: 0.0362 - accuracy: 0.9884 - val_loss: 0.0123 - val_accuracy: 0.9948\n",
      "Epoch 24/100\n",
      "641/641 [==============================] - 1s 2ms/step - loss: 0.0349 - accuracy: 0.9883 - val_loss: 0.0116 - val_accuracy: 0.9956\n",
      "Epoch 25/100\n",
      "641/641 [==============================] - 1s 2ms/step - loss: 0.0364 - accuracy: 0.9888 - val_loss: 0.0123 - val_accuracy: 0.9934\n",
      "Epoch 26/100\n",
      "641/641 [==============================] - 1s 2ms/step - loss: 0.0329 - accuracy: 0.9870 - val_loss: 0.0110 - val_accuracy: 0.9956\n",
      "Epoch 27/100\n",
      "641/641 [==============================] - 1s 2ms/step - loss: 0.0351 - accuracy: 0.9873 - val_loss: 0.0113 - val_accuracy: 0.9948\n",
      "Epoch 28/100\n",
      "641/641 [==============================] - 1s 2ms/step - loss: 0.0365 - accuracy: 0.9872 - val_loss: 0.0097 - val_accuracy: 0.9956\n",
      "Epoch 29/100\n",
      "641/641 [==============================] - 1s 2ms/step - loss: 0.0316 - accuracy: 0.9895 - val_loss: 0.0171 - val_accuracy: 0.9919\n",
      "Epoch 30/100\n",
      "641/641 [==============================] - 1s 2ms/step - loss: 0.0318 - accuracy: 0.9894 - val_loss: 0.0103 - val_accuracy: 0.9963\n",
      "Epoch 31/100\n",
      "641/641 [==============================] - 1s 2ms/step - loss: 0.0339 - accuracy: 0.9888 - val_loss: 0.0132 - val_accuracy: 0.9956\n",
      "Epoch 32/100\n",
      "641/641 [==============================] - 1s 2ms/step - loss: 0.0299 - accuracy: 0.9908 - val_loss: 0.0092 - val_accuracy: 0.9971\n",
      "Epoch 33/100\n",
      "641/641 [==============================] - 1s 2ms/step - loss: 0.0315 - accuracy: 0.9884 - val_loss: 0.0098 - val_accuracy: 0.9971\n",
      "Epoch 34/100\n",
      "641/641 [==============================] - 1s 2ms/step - loss: 0.0275 - accuracy: 0.9894 - val_loss: 0.0105 - val_accuracy: 0.9963\n",
      "Epoch 35/100\n",
      "641/641 [==============================] - 1s 2ms/step - loss: 0.0312 - accuracy: 0.9891 - val_loss: 0.0140 - val_accuracy: 0.9934\n",
      "Epoch 36/100\n",
      "641/641 [==============================] - 1s 2ms/step - loss: 0.0302 - accuracy: 0.9894 - val_loss: 0.0151 - val_accuracy: 0.9926\n",
      "Epoch 37/100\n",
      "641/641 [==============================] - 1s 2ms/step - loss: 0.0299 - accuracy: 0.9894 - val_loss: 0.0096 - val_accuracy: 0.9978\n",
      "Epoch 38/100\n",
      "641/641 [==============================] - 1s 2ms/step - loss: 0.0247 - accuracy: 0.9913 - val_loss: 0.0084 - val_accuracy: 0.9963\n",
      "Epoch 39/100\n",
      "641/641 [==============================] - 1s 2ms/step - loss: 0.0300 - accuracy: 0.9898 - val_loss: 0.0081 - val_accuracy: 0.9971\n",
      "Epoch 40/100\n",
      "641/641 [==============================] - 1s 2ms/step - loss: 0.0214 - accuracy: 0.9927 - val_loss: 0.0104 - val_accuracy: 0.9956\n",
      "Epoch 41/100\n",
      "641/641 [==============================] - 1s 2ms/step - loss: 0.0324 - accuracy: 0.9881 - val_loss: 0.0075 - val_accuracy: 0.9971\n",
      "Epoch 42/100\n",
      "641/641 [==============================] - 1s 2ms/step - loss: 0.0290 - accuracy: 0.9897 - val_loss: 0.0109 - val_accuracy: 0.9963\n",
      "Epoch 43/100\n",
      "641/641 [==============================] - 1s 2ms/step - loss: 0.0237 - accuracy: 0.9906 - val_loss: 0.0100 - val_accuracy: 0.9963\n",
      "Epoch 44/100\n",
      "641/641 [==============================] - 1s 2ms/step - loss: 0.0265 - accuracy: 0.9906 - val_loss: 0.0054 - val_accuracy: 0.9985\n",
      "Epoch 45/100\n",
      "641/641 [==============================] - 1s 2ms/step - loss: 0.0275 - accuracy: 0.9898 - val_loss: 0.0105 - val_accuracy: 0.9971\n",
      "Epoch 46/100\n",
      "641/641 [==============================] - 1s 2ms/step - loss: 0.0266 - accuracy: 0.9914 - val_loss: 0.0140 - val_accuracy: 0.9934\n",
      "Epoch 47/100\n",
      "641/641 [==============================] - 1s 2ms/step - loss: 0.0277 - accuracy: 0.9897 - val_loss: 0.0117 - val_accuracy: 0.9941\n",
      "Epoch 48/100\n",
      "641/641 [==============================] - 1s 2ms/step - loss: 0.0265 - accuracy: 0.9911 - val_loss: 0.0074 - val_accuracy: 0.9971\n",
      "Epoch 49/100\n",
      "641/641 [==============================] - 1s 2ms/step - loss: 0.0249 - accuracy: 0.9908 - val_loss: 0.0072 - val_accuracy: 0.9963\n",
      "Epoch 50/100\n",
      "641/641 [==============================] - 1s 2ms/step - loss: 0.0260 - accuracy: 0.9894 - val_loss: 0.0051 - val_accuracy: 0.9985\n",
      "Epoch 51/100\n",
      "641/641 [==============================] - 1s 2ms/step - loss: 0.0219 - accuracy: 0.9928 - val_loss: 0.0115 - val_accuracy: 0.9948\n",
      "Epoch 52/100\n",
      "641/641 [==============================] - 1s 2ms/step - loss: 0.0280 - accuracy: 0.9897 - val_loss: 0.0105 - val_accuracy: 0.9971\n",
      "Epoch 53/100\n",
      "641/641 [==============================] - 1s 2ms/step - loss: 0.0249 - accuracy: 0.9903 - val_loss: 0.0151 - val_accuracy: 0.9956\n",
      "Epoch 54/100\n",
      "641/641 [==============================] - 1s 2ms/step - loss: 0.0244 - accuracy: 0.9903 - val_loss: 0.0063 - val_accuracy: 0.9978\n",
      "Epoch 55/100\n",
      "641/641 [==============================] - 1s 2ms/step - loss: 0.0217 - accuracy: 0.9931 - val_loss: 0.0055 - val_accuracy: 0.9985\n",
      "Epoch 56/100\n",
      "641/641 [==============================] - 1s 2ms/step - loss: 0.0261 - accuracy: 0.9898 - val_loss: 0.0109 - val_accuracy: 0.9956\n",
      "Epoch 57/100\n",
      "641/641 [==============================] - 1s 2ms/step - loss: 0.0207 - accuracy: 0.9928 - val_loss: 0.0097 - val_accuracy: 0.9963\n",
      "Epoch 58/100\n",
      "641/641 [==============================] - 1s 2ms/step - loss: 0.0251 - accuracy: 0.9906 - val_loss: 0.0120 - val_accuracy: 0.9948\n",
      "Epoch 59/100\n",
      "641/641 [==============================] - 1s 2ms/step - loss: 0.0218 - accuracy: 0.9922 - val_loss: 0.0098 - val_accuracy: 0.9941\n",
      "Epoch 60/100\n",
      "641/641 [==============================] - 1s 2ms/step - loss: 0.0222 - accuracy: 0.9922 - val_loss: 0.0054 - val_accuracy: 0.9985\n",
      "Epoch 61/100\n",
      "641/641 [==============================] - 2s 3ms/step - loss: 0.0199 - accuracy: 0.9933 - val_loss: 0.0059 - val_accuracy: 0.9978\n",
      "Epoch 62/100\n",
      "641/641 [==============================] - 2s 3ms/step - loss: 0.0271 - accuracy: 0.9906 - val_loss: 0.0106 - val_accuracy: 0.9948\n",
      "Epoch 63/100\n",
      "641/641 [==============================] - 2s 3ms/step - loss: 0.0221 - accuracy: 0.9908 - val_loss: 0.0111 - val_accuracy: 0.9948\n",
      "Epoch 64/100\n",
      "641/641 [==============================] - 1s 2ms/step - loss: 0.0202 - accuracy: 0.9931 - val_loss: 0.0103 - val_accuracy: 0.9941\n",
      "Epoch 65/100\n",
      "641/641 [==============================] - 1s 2ms/step - loss: 0.0237 - accuracy: 0.9913 - val_loss: 0.0134 - val_accuracy: 0.9934\n",
      "Epoch 66/100\n",
      "641/641 [==============================] - 1s 2ms/step - loss: 0.0213 - accuracy: 0.9920 - val_loss: 0.0071 - val_accuracy: 0.9963\n",
      "Epoch 67/100\n",
      "641/641 [==============================] - 1s 2ms/step - loss: 0.0273 - accuracy: 0.9898 - val_loss: 0.0079 - val_accuracy: 0.9971\n",
      "Epoch 68/100\n",
      "641/641 [==============================] - 1s 2ms/step - loss: 0.0205 - accuracy: 0.9923 - val_loss: 0.0063 - val_accuracy: 0.9971\n",
      "Epoch 69/100\n",
      "641/641 [==============================] - 1s 2ms/step - loss: 0.0208 - accuracy: 0.9934 - val_loss: 0.0091 - val_accuracy: 0.9971\n",
      "Epoch 70/100\n",
      "641/641 [==============================] - 1s 2ms/step - loss: 0.0225 - accuracy: 0.9923 - val_loss: 0.0099 - val_accuracy: 0.9948\n",
      "Epoch 71/100\n",
      "641/641 [==============================] - 1s 2ms/step - loss: 0.0242 - accuracy: 0.9902 - val_loss: 0.0178 - val_accuracy: 0.9948\n",
      "Epoch 72/100\n",
      "641/641 [==============================] - 1s 2ms/step - loss: 0.0206 - accuracy: 0.9922 - val_loss: 0.0081 - val_accuracy: 0.9963\n",
      "Epoch 73/100\n",
      "641/641 [==============================] - 1s 2ms/step - loss: 0.0186 - accuracy: 0.9939 - val_loss: 0.0126 - val_accuracy: 0.9971\n",
      "Epoch 74/100\n",
      "641/641 [==============================] - 1s 2ms/step - loss: 0.0248 - accuracy: 0.9914 - val_loss: 0.0086 - val_accuracy: 0.9971\n",
      "Epoch 75/100\n",
      "641/641 [==============================] - 1s 2ms/step - loss: 0.0200 - accuracy: 0.9927 - val_loss: 0.0101 - val_accuracy: 0.9971\n",
      "Epoch 76/100\n",
      "641/641 [==============================] - 1s 2ms/step - loss: 0.0227 - accuracy: 0.9916 - val_loss: 0.0125 - val_accuracy: 0.9948\n",
      "Epoch 77/100\n",
      "641/641 [==============================] - 1s 2ms/step - loss: 0.0212 - accuracy: 0.9936 - val_loss: 0.0083 - val_accuracy: 0.9941\n",
      "Epoch 78/100\n",
      "641/641 [==============================] - 1s 2ms/step - loss: 0.0175 - accuracy: 0.9930 - val_loss: 0.0084 - val_accuracy: 0.9956\n",
      "Epoch 79/100\n",
      "641/641 [==============================] - 1s 2ms/step - loss: 0.0166 - accuracy: 0.9939 - val_loss: 0.0077 - val_accuracy: 0.9948\n",
      "Epoch 80/100\n",
      "641/641 [==============================] - 1s 2ms/step - loss: 0.0196 - accuracy: 0.9931 - val_loss: 0.0108 - val_accuracy: 0.9956\n",
      "Epoch 81/100\n",
      "641/641 [==============================] - 1s 2ms/step - loss: 0.0252 - accuracy: 0.9914 - val_loss: 0.0134 - val_accuracy: 0.9948\n",
      "Epoch 82/100\n",
      "641/641 [==============================] - 1s 2ms/step - loss: 0.0158 - accuracy: 0.9950 - val_loss: 0.0095 - val_accuracy: 0.9956\n",
      "Epoch 83/100\n",
      "641/641 [==============================] - 2s 2ms/step - loss: 0.0196 - accuracy: 0.9927 - val_loss: 0.0065 - val_accuracy: 0.9978\n",
      "Epoch 84/100\n",
      "641/641 [==============================] - 2s 3ms/step - loss: 0.0182 - accuracy: 0.9944 - val_loss: 0.0057 - val_accuracy: 0.9978\n",
      "Epoch 85/100\n",
      "641/641 [==============================] - 2s 3ms/step - loss: 0.0251 - accuracy: 0.9903 - val_loss: 0.0122 - val_accuracy: 0.9963\n",
      "Epoch 86/100\n",
      "641/641 [==============================] - 1s 2ms/step - loss: 0.0243 - accuracy: 0.9928 - val_loss: 0.0084 - val_accuracy: 0.9948\n",
      "Epoch 87/100\n",
      "641/641 [==============================] - 1s 2ms/step - loss: 0.0191 - accuracy: 0.9927 - val_loss: 0.0079 - val_accuracy: 0.9971\n",
      "Epoch 88/100\n",
      "641/641 [==============================] - 1s 2ms/step - loss: 0.0231 - accuracy: 0.9930 - val_loss: 0.0132 - val_accuracy: 0.9941\n",
      "Epoch 89/100\n",
      "641/641 [==============================] - 1s 2ms/step - loss: 0.0199 - accuracy: 0.9933 - val_loss: 0.0141 - val_accuracy: 0.9934\n",
      "Epoch 90/100\n",
      "641/641 [==============================] - 1s 2ms/step - loss: 0.0203 - accuracy: 0.9917 - val_loss: 0.0069 - val_accuracy: 0.9971\n",
      "Epoch 91/100\n",
      "641/641 [==============================] - 1s 2ms/step - loss: 0.0214 - accuracy: 0.9927 - val_loss: 0.0085 - val_accuracy: 0.9963\n",
      "Epoch 92/100\n",
      "641/641 [==============================] - 1s 2ms/step - loss: 0.0170 - accuracy: 0.9939 - val_loss: 0.0086 - val_accuracy: 0.9978\n",
      "Epoch 93/100\n",
      "641/641 [==============================] - 1s 2ms/step - loss: 0.0167 - accuracy: 0.9947 - val_loss: 0.0060 - val_accuracy: 0.9971\n",
      "Epoch 94/100\n",
      "641/641 [==============================] - 1s 2ms/step - loss: 0.0245 - accuracy: 0.9925 - val_loss: 0.0070 - val_accuracy: 0.9971\n",
      "Epoch 95/100\n",
      "641/641 [==============================] - 1s 2ms/step - loss: 0.0173 - accuracy: 0.9941 - val_loss: 0.0054 - val_accuracy: 0.9978\n",
      "Epoch 96/100\n",
      "641/641 [==============================] - 1s 2ms/step - loss: 0.0180 - accuracy: 0.9936 - val_loss: 0.0098 - val_accuracy: 0.9948\n",
      "Epoch 97/100\n",
      "641/641 [==============================] - 1s 2ms/step - loss: 0.0222 - accuracy: 0.9922 - val_loss: 0.0133 - val_accuracy: 0.9941\n",
      "Epoch 98/100\n",
      "641/641 [==============================] - 1s 2ms/step - loss: 0.0148 - accuracy: 0.9945 - val_loss: 0.0127 - val_accuracy: 0.9971\n",
      "Epoch 99/100\n",
      "641/641 [==============================] - 1s 2ms/step - loss: 0.0183 - accuracy: 0.9931 - val_loss: 0.0109 - val_accuracy: 0.9963\n",
      "Epoch 100/100\n",
      "641/641 [==============================] - 1s 2ms/step - loss: 0.0210 - accuracy: 0.9930 - val_loss: 0.0073 - val_accuracy: 0.9985\n"
     ]
    }
   ],
   "source": [
    "history = model.fit(X_train, y_train, validation_data=(X_val, y_val), epochs=100, batch_size=10)\n"
   ]
  },
  {
   "cell_type": "code",
   "execution_count": 10,
   "metadata": {},
   "outputs": [
    {
     "data": {
      "text/plain": [
       "<matplotlib.legend.Legend at 0x22d5b0ac5d0>"
      ]
     },
     "execution_count": 10,
     "metadata": {},
     "output_type": "execute_result"
    },
    {
     "data": {
      "image/png": "[encoded data removed]",
      "text/plain": [
       "<Figure size 1200x400 with 1 Axes>"
      ]
     },
     "metadata": {},
     "output_type": "display_data"
    }
   ],
   "source": [
    "plt.figure(figsize=(12, 4))\n",
    "plt.subplot(1, 2, 1)\n",
    "plt.plot(history.history['loss'], label='Train Loss')\n",
    "plt.plot(history.history['val_loss'], label='Validation Loss')\n",
    "plt.title('Model Loss')\n",
    "plt.ylabel('Loss')\n",
    "plt.xlabel('Epoch')\n",
    "plt.legend()"
   ]
  },
  {
   "cell_type": "code",
   "execution_count": 11,
   "metadata": {},
   "outputs": [
    {
     "data": {
      "image/png": "[encoded data removed]",
      "text/plain": [
       "<Figure size 640x480 with 1 Axes>"
      ]
     },
     "metadata": {},
     "output_type": "display_data"
    }
   ],
   "source": [
    "plt.subplot(1, 2, 2)\n",
    "plt.plot(history.history['accuracy'], label='Train Accuracy')\n",
    "plt.plot(history.history['val_accuracy'], label='Validation Accuracy')\n",
    "plt.title('Model Accuracy')\n",
    "plt.ylabel('Accuracy')\n",
    "plt.xlabel('Epoch')\n",
    "plt.legend()\n",
    "\n",
    "plt.show()"
   ]
  },
  {
   "cell_type": "code",
   "execution_count": 12,
   "metadata": {},
   "outputs": [],
   "source": [
    "model.save('cluster_prediction.h5')\n"
   ]
  }
 ],
 "metadata": {
  "kernelspec": {
   "display_name": "Python 3",
   "language": "python",
   "name": "python3"
  },
  "language_info": {
   "codemirror_mode": {
    "name": "ipython",
    "version": 3
   },
   "file_extension": ".py",
   "mimetype": "text/x-python",
   "name": "python",
   "nbconvert_exporter": "python",
   "pygments_lexer": "ipython3",
   "version": "3.11.3"
  }
 },
 "nbformat": 4,
 "nbformat_minor": 2
}
